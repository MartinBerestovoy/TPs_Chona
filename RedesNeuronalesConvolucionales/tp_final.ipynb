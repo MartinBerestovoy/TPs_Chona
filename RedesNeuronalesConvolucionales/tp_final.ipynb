{
 "cells": [
  {
   "cell_type": "markdown",
   "metadata": {},
   "source": [
    "https://github.com/IgnacioPardo/Tecnologias_Exponenciales_2023/blob/main/Consigna_TP_Final.md"
   ]
  },
  {
   "cell_type": "code",
   "execution_count": 3,
   "metadata": {},
   "outputs": [],
   "source": [
    "import tensorflow as tf\n",
    "from tensorflow import keras\n",
    "from tensorflow.keras.preprocessing.image import ImageDataGenerator\n",
    "import numpy as np"
   ]
  },
  {
   "cell_type": "code",
   "execution_count": 10,
   "metadata": {},
   "outputs": [
    {
     "name": "stdout",
     "output_type": "stream",
     "text": [
      "Found 2020 images belonging to 3 classes.\n"
     ]
    }
   ],
   "source": [
    "# Transformamos las imagenes a tensores\n",
    "train = ImageDataGenerator(rescale=1.0 / 255)\n",
    "tensor_train = train.flow_from_directory(\n",
    "    \"train\", target_size=(224, 224), batch_size=32, class_mode=\"categorical\"\n",
    ")"
   ]
  },
  {
   "cell_type": "code",
   "execution_count": 8,
   "metadata": {},
   "outputs": [
    {
     "name": "stdout",
     "output_type": "stream",
     "text": [
      "Found 120 images belonging to 3 classes.\n"
     ]
    }
   ],
   "source": [
    "test = ImageDataGenerator(rescale=1.0 / 255)\n",
    "tensor_test = test.flow_from_directory(\n",
    "    \"test\", target_size=(224, 224), batch_size=32, class_mode=\"categorical\"\n",
    ")"
   ]
  },
  {
   "cell_type": "code",
   "execution_count": 9,
   "metadata": {},
   "outputs": [
    {
     "name": "stdout",
     "output_type": "stream",
     "text": [
      "Found 48 images belonging to 3 classes.\n"
     ]
    }
   ],
   "source": [
    "validation = ImageDataGenerator(rescale=1.0 / 255)\n",
    "tensor_validation = validation.flow_from_directory(\n",
    "    \"validation\", target_size=(224, 224), batch_size=32, class_mode=\"categorical\"\n",
    ")"
   ]
  },
  {
   "cell_type": "code",
   "execution_count": 12,
   "metadata": {},
   "outputs": [
    {
     "name": "stdout",
     "output_type": "stream",
     "text": [
      "WARNING:tensorflow:From c:\\Users\\marti\\AppData\\Local\\Programs\\Python\\Python311\\Lib\\site-packages\\keras\\src\\optimizers\\__init__.py:309: The name tf.train.Optimizer is deprecated. Please use tf.compat.v1.train.Optimizer instead.\n",
      "\n"
     ]
    }
   ],
   "source": [
    "# Hacemos el modelo\n",
    "model = tf.keras.models.Sequential(\n",
    "    [\n",
    "        tf.keras.layers.Conv2D(\n",
    "            64, (3, 3), activation=\"relu\", input_shape=(224, 224, 3)\n",
    "        ),\n",
    "        tf.keras.layers.MaxPooling2D(2, 2),\n",
    "        tf.keras.layers.Conv2D(64, (3, 3), activation=\"relu\"),\n",
    "        tf.keras.layers.MaxPooling2D(2, 2),\n",
    "        tf.keras.layers.Flatten(),\n",
    "        tf.keras.layers.Dense(128, activation=\"relu\"),\n",
    "        tf.keras.layers.Dropout(0.5),\n",
    "        tf.keras.layers.Dense(3, activation=\"softmax\"),\n",
    "    ]\n",
    ")\n",
    "\n",
    "# Optimizamos el modelo como recomienda copilot chat\n",
    "model.compile(loss=\"categorical_crossentropy\", optimizer=\"adam\", metrics=[\"accuracy\"])"
   ]
  },
  {
   "cell_type": "code",
   "execution_count": 15,
   "metadata": {},
   "outputs": [
    {
     "name": "stdout",
     "output_type": "stream",
     "text": [
      "Epoch 1/5\n",
      "50/50 [==============================] - ETA: 0s - loss: 0.4947 - accuracy: 0.8136WARNING:tensorflow:Your input ran out of data; interrupting training. Make sure that your dataset or generator can generate at least `steps_per_epoch * epochs` batches (in this case, 20 batches). You may need to use the repeat() function when building your dataset.\n",
      "50/50 [==============================] - 117s 2s/step - loss: 0.4947 - accuracy: 0.8136 - val_loss: 0.2625 - val_accuracy: 0.9583\n",
      "Epoch 2/5\n",
      "50/50 [==============================] - 109s 2s/step - loss: 0.3715 - accuracy: 0.8690\n",
      "Epoch 3/5\n",
      "50/50 [==============================] - 105s 2s/step - loss: 0.2427 - accuracy: 0.9109\n",
      "Epoch 4/5\n",
      "50/50 [==============================] - 105s 2s/step - loss: 0.2351 - accuracy: 0.9187\n",
      "Epoch 5/5\n",
      "50/50 [==============================] - 106s 2s/step - loss: 0.1570 - accuracy: 0.9434\n"
     ]
    }
   ],
   "source": [
    "# Fiteamos el modelo\n",
    "fitted_model = model.fit(\n",
    "    tensor_train,\n",
    "    steps_per_epoch=50,\n",
    "    epochs=5,\n",
    "    validation_data=tensor_validation,\n",
    "    validation_steps=20,\n",
    ")"
   ]
  },
  {
   "cell_type": "code",
   "execution_count": 21,
   "metadata": {},
   "outputs": [
    {
     "name": "stdout",
     "output_type": "stream",
     "text": [
      "4/4 [==============================] - 2s 450ms/step - loss: 0.1889 - accuracy: 0.9500\n"
     ]
    }
   ],
   "source": [
    "# Evaluamos el modelo\n",
    "loss, accuracy = model.evaluate(tensor_test)"
   ]
  }
 ],
 "metadata": {
  "kernelspec": {
   "display_name": "Python 3",
   "language": "python",
   "name": "python3"
  },
  "language_info": {
   "codemirror_mode": {
    "name": "ipython",
    "version": 3
   },
   "file_extension": ".py",
   "mimetype": "text/x-python",
   "name": "python",
   "nbconvert_exporter": "python",
   "pygments_lexer": "ipython3",
   "version": "3.11.5"
  }
 },
 "nbformat": 4,
 "nbformat_minor": 2
}
