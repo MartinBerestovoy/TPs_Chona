{
 "cells": [
  {
   "cell_type": "markdown",
   "metadata": {},
   "source": [
    "https://github.com/IgnacioPardo/Tecnologias_Exponenciales_2023/blob/main/Consigna_TP_Final.md"
   ]
  }
 ],
 "metadata": {
  "language_info": {
   "name": "python"
  }
 },
 "nbformat": 4,
 "nbformat_minor": 2
}
