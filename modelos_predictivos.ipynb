{
 "cells": [
  {
   "cell_type": "markdown",
   "metadata": {},
   "source": [
    "### Trabajo Práctico 1: Modelos Predictivos en SciKit-Learn\n",
    "https://github.com/IgnacioPardo/Tecnologias_Exponenciales_2023/blob/main/Consigna_ModelosPredictivos.md"
   ]
  },
  {
   "cell_type": "markdown",
   "metadata": {},
   "source": [
    "#### Avanzado Tecnologías Exponenciales 2023\n",
    "\n",
    "#### Consigna\n",
    "\n",
    "En grupos de 2 o 3 personas, realizar los siguientes ejercicios.\n",
    "\n"
   ]
  },
  {
   "cell_type": "markdown",
   "metadata": {},
   "source": [
    "### Ej 1. \n"
   ]
  },
  {
   "cell_type": "markdown",
   "metadata": {},
   "source": [
    "Investigar y seleccionar un dataset que cumpla con tener entre 1000 y 10.000 muestras, 5 o más atributos numéricos y al menos un atributo categórico (Recomendación: seleccionar un atributo a predecir binario). De encontrar algún dataset sin atributos categóricos, ¿Como se podría generar uno binario a partir de los atributos numéricos? Se recomienda utilizar Kaggle para la búsqueda del dataset. Antes de avanzar con el trabajo práctico, corroborar el dataset en clase.\n",
    "\n"
   ]
  },
  {
   "cell_type": "code",
   "execution_count": null,
   "metadata": {},
   "outputs": [],
   "source": [
    "# Importamos las librerias necesarias\n",
    "import pandas as pd\n",
    "import matplotlib.pyplot as plt\n",
    "import seaborn as sns"
   ]
  },
  {
   "cell_type": "code",
   "execution_count": null,
   "metadata": {},
   "outputs": [],
   "source": [
    "# Importamos el dataset\n",
    "df = pd.read_csv('athletes.csv')\n",
    "\n",
    "# Eliminamos las filas con datos nulos\n",
    "df = df.dropna()\n",
    "\n",
    "# Creamos un diccionario de mapeo de valores\n",
    "medal_mapping = {\"Gold\": 1, \"Silver\": 2, \"Bronze\": 3}\n",
    "\n",
    "# Aplicamos el mapeo a la columna \"Medal\" y almacenar el resultado en una nueva columna \"Medal_Num\"\n",
    "df['Medal'] = df['Medal'].map(medal_mapping)\n",
    "\n",
    "# Hacemos una columna booleana para ver si es hombre o no (mujer)\n",
    "df['IsMale'] = df['Sex'].replace({'M': True, 'F': False})\n",
    "\n",
    "# Eliminamos las columnas innecesarias\n",
    "columns_to_drop = ['Games', 'Name', 'Season', 'City', 'Event', 'NOC', 'ID', 'Sex']\n",
    "\n",
    "df = df.drop(columns=columns_to_drop)\n",
    "\n",
    "# Filtramos el dataset para que solo tenga 10000 filas\n",
    "df = df.sample(n=10000)\n",
    "\n",
    "df.head()"
   ]
  },
  {
   "cell_type": "markdown",
   "metadata": {},
   "source": [
    "### Ej 2. \n"
   ]
  },
  {
   "cell_type": "markdown",
   "metadata": {},
   "source": [
    "Realizar un análisis exploratorio de los datos. Se recomienda utilizar gráficos para visualizar la distribución de los datos y la correlación entre los atributos. Se recomienda utilizar la librería `seaborn` para realizar los gráficos.\n",
    "\n",
    "\n"
   ]
  },
  {
   "cell_type": "code",
   "execution_count": null,
   "metadata": {},
   "outputs": [],
   "source": [
    "# Distribución de variables numéricas\n",
    "sns.histplot(data=df, x='Age', bins=20)\n",
    "plt.show()\n",
    "\n",
    "sns.histplot(data=df, x='Heigth', bins=20)\n",
    "plt.show()\n",
    "\n",
    "sns.histplot(data=df, x='Weigth', bins=20)\n",
    "plt.show()\n",
    "\n",
    "sns.histplot(data=df, x='Year', bins=20)\n",
    "plt.show()\n",
    "\n",
    "sns.histplot(data=df, x='Medal', bins=20)\n",
    "plt.show()\n",
    "\n",
    "\n",
    "# Distribución de variables categóricas\n",
    "sns.countplot(data=df, x='Sport')\n",
    "plt.show()\n",
    "\n",
    "sns.countplot(data=df, x='Team')\n",
    "plt.show()"
   ]
  },
  {
   "cell_type": "markdown",
   "metadata": {},
   "source": [
    "### Ej 3. \n"
   ]
  },
  {
   "cell_type": "markdown",
   "metadata": {},
   "source": [
    "Como resultado del análisis exploratorio, seleccionar un atributo categórico y un atributo numérico para realizar un modelo de clasificación. Se recomienda utilizar la función `LabelEncoder` de SciKit-Learn para convertir el atributo categórico a numérico.\n",
    "\n",
    "\n"
   ]
  },
  {
   "cell_type": "markdown",
   "metadata": {},
   "source": [
    "### Ej 4. \n"
   ]
  },
  {
   "cell_type": "markdown",
   "metadata": {},
   "source": [
    "Realizar una partición de los datos en conjuntos de entrenamiento y test. La proporción con la cual hacen esta partición es libre. Se recomienda utilizar la función `train_test_split` de SciKit-Learn.\n",
    "\n",
    "\n"
   ]
  },
  {
   "cell_type": "markdown",
   "metadata": {},
   "source": [
    "### Ej 5. \n"
   ]
  },
  {
   "cell_type": "markdown",
   "metadata": {},
   "source": [
    "Para el atributo numérico a predecir seleccionado:\n",
    "\n",
    "- Realizar un modelo de regresión lineal utilizando la clase `LinearRegression` de SciKit-Learn.\n",
    "- Realizar un modelo de Árbol de Decisión utilizando la clase `DecisionTreeRegressor` de SciKit-Learn. Seleccionar hiperparámetros que les parezca mejoren el modelo.\n",
    "\n",
    "Responder:\n",
    "¿Que formas tienen de evaluar los resultados de cada árbol de decisión? ¿Como eligen \"el mejor árbol\"? ¿Como se comparan los resultados de los modelos de regresión lineal y de árbol de decisión?\n",
    "\n",
    "Sugerencia: Aprovechar los conceptos de validación y de validación cruzada para evaluar los modelos. Pueden utilizar la función `cross_val_score` de SciKit-Learn para evaluar los modelos.\n",
    "\n",
    "Se recomienda utilizar la función `cross_val_score` de SciKit-Learn para evaluar los modelos.\n",
    "\n",
    "\n"
   ]
  },
  {
   "cell_type": "markdown",
   "metadata": {},
   "source": [
    "### Ej 6. \n"
   ]
  },
  {
   "cell_type": "markdown",
   "metadata": {},
   "source": [
    "Para el atributo categórico a predecir seleccionado\n",
    "\n",
    "- Realizar un modelo de clasificación utilizando la clase `LogisticRegression` de SciKit-Learn.\n",
    "- Realizar un modelo de clasificación utilizando la clase `DecisionTreeClassifier` de SciKit-Learn.\n",
    "\n",
    "Responder las mismas preguntas que en el punto 5 para este caso.\n",
    "\n",
    "\n",
    "\n",
    "\n",
    "\n"
   ]
  },
  {
   "cell_type": "markdown",
   "metadata": {},
   "source": [
    "### Ej 7. \n"
   ]
  },
  {
   "cell_type": "markdown",
   "metadata": {},
   "source": [
    "Comparar distintos métodos de validación cruzada. ¿Que ventajas y desventajas tiene cada uno?\n",
    "\n",
    "\n"
   ]
  },
  {
   "cell_type": "markdown",
   "metadata": {},
   "source": [
    "### Ej 8. \n"
   ]
  },
  {
   "cell_type": "markdown",
   "metadata": {},
   "source": [
    "Escribir una conclusión sobre el trabajo realizado.\n",
    "\n",
    "\n"
   ]
  },
  {
   "cell_type": "markdown",
   "metadata": {},
   "source": [
    "### Bonus 1.\n"
   ]
  },
  {
   "cell_type": "markdown",
   "metadata": {},
   "source": [
    "Investigar los métodos GridSearch y RandomSearch para la búsqueda de hiperparámetros. Utilizarlos para encontrar los mejores hiperparámetros para los modelos.\n",
    "\n"
   ]
  },
  {
   "cell_type": "markdown",
   "metadata": {},
   "source": [
    "### Bonus 2.\n"
   ]
  },
  {
   "cell_type": "markdown",
   "metadata": {},
   "source": [
    "Para ya sea el atributo categórico como para el numérico, elegir otro modelo de clasificación o regresión que no haya sido utilizado anteriormente. Entrenar el modelo y comparar los resultados con los obtenidos anteriormente.\n",
    "\n"
   ]
  },
  {
   "cell_type": "markdown",
   "metadata": {},
   "source": [
    "### Entrega y Bibliografia\n"
   ]
  },
  {
   "cell_type": "markdown",
   "metadata": {},
   "source": [
    "\n",
    "#### Formato de entrega\n",
    "\n",
    "El trabajo práctico se debe realizar en un notebook de Jupyter. El notebook debe estar subido a un repositorio de GitHub. El link al repositorio debe ser completado en el siguiente [Google Form]().\n",
    "\n",
    "\n",
    "#### Fecha de entrega\n",
    "\n",
    "El trabajo práctico se debe entregar hasta el 17/09/2023 a las 23:59hs.\n",
    "\n",
    "#### Bibliografía\n",
    "\n",
    "- [SciKit-Learn](https://scikit-learn.org/stable/)\n",
    "- [Seaborn](https://seaborn.pydata.org/)\n",
    "- [Kaggle](https://www.kaggle.com/)\n",
    "- [Cross Validation](https://scikit-learn.org/stable/modules/cross_validation.html)"
   ]
  }
 ],
 "metadata": {
  "kernelspec": {
   "display_name": "Python 3",
   "language": "python",
   "name": "python3"
  },
  "language_info": {
   "codemirror_mode": {
    "name": "ipython",
    "version": 3
   },
   "file_extension": ".py",
   "mimetype": "text/x-python",
   "name": "python",
   "nbconvert_exporter": "python",
   "pygments_lexer": "ipython3",
   "version": "3.10.0"
  },
  "orig_nbformat": 4
 },
 "nbformat": 4,
 "nbformat_minor": 2
}
