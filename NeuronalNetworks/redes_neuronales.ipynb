{
 "cells": [
  {
   "cell_type": "markdown",
   "metadata": {},
   "source": [
    "https://github.com/IgnacioPardo/Tecnologias_Exponenciales_2023/blob/main/Consigna_NN.md\n",
    "https://github.com/IgnacioPardo/SNN/tree/main\n",
    "\n",
    "# Trabajo Práctico Redes Neuronales\n",
    "\n",
    "## Introducción\n",
    "\n",
    "El objetivo de este trabajo es plantear una red neuronal con una capa de entrada con $n$ neuronas y una capa de salida con $m$ salidas para resolver un problema de su propía creación.\n",
    "\n",
    "Se evaluara la correcta implementación de la red neuronal y la explicación de los elementos de la teoría vistos en clase.\n",
    "\n",
    "## Consigna\n",
    "\n",
    "A partir del siguiente Notebook visto en clase [SNN](https://github.com/IgnacioPardo/SNN/blob/main/SNN.ipynb), se pide:\n",
    "\n",
    "1. Plantear un problema a resolver con una red neuronal de una capa de entrada y una capa de salida. Las salidas no deben ser excluyentes, es decir, pueden pertenecer a mas de una clase. Algunos ejemplos son: A partir de caracteristicas de una vivienda, determinar si la vivienda es de algun estilo (moderna, agradable, tradicional). Pueden generar ustedes un pequeño dataset para utilizar o buscar en Kaggle.\n",
    "2. Modificar la estructura de la red neuronal para que admita $n$ neuronas de entrada y $m$ neuronas de salida.\n",
    "\n",
    "Ademas deben indicar los elementos de la teoría que vimos en clase que identifiquen en el código y explicarlos (Estructura de la Red, Función de activación, Forward propagation, Back propagation y Gradiente descendente).\n",
    "\n",
    "## Bonus\n",
    "\n",
    "A. ¿Como modificarían la estructura de la red para que admita $k$ capas ocultas con $n$ neuronas cada una? Describir como sería el algoritmo de forward propagation en este caso, no es necesario implementar el algoritmo de back propagation.\n",
    "\n",
    "B. Investigar la función de activación Softmax y explicar como se puede utilizar para resolver un problema de clasificación con $m$ clases mutualmente excluyentes. ¿Que habría que modificar en el código para utilizar esta función de activación?\n",
    "\n",
    "## Entrega\n",
    "\n",
    "La entrega consiste en un notebook de Jupyter con el código y las explicaciones correspondientes. La fecha de entrega es el 29/10/2023 a través del siguiente [Google Forms]()."
   ]
  },
  {
   "cell_type": "code",
   "execution_count": 4,
   "metadata": {},
   "outputs": [],
   "source": [
    "import numpy as np\n",
    "import pandas as pd\n",
    "import matplotlib.pyplot as plt\n",
    "from IPython.display import HTML, display\n",
    "import tabulate\n",
    "import networkx as nx\n",
    "from random import random as rand\n",
    "import itertools"
   ]
  },
  {
   "cell_type": "code",
   "execution_count": 5,
   "metadata": {},
   "outputs": [],
   "source": [
    "def sigmoid(x):\n",
    "    return 1 / ( 1 + np.exp(-x) )\n",
    "\n",
    "# sigmoid = lambda x : 1 / ( 1 + np.exp(-x) )\n",
    "\n",
    "def sigmoid_derivative(x):\n",
    "    return x * (1 - x)"
   ]
  },
  {
   "cell_type": "code",
   "execution_count": 6,
   "metadata": {},
   "outputs": [
    {
     "data": {
      "text/html": [
       "<div>\n",
       "<style scoped>\n",
       "    .dataframe tbody tr th:only-of-type {\n",
       "        vertical-align: middle;\n",
       "    }\n",
       "\n",
       "    .dataframe tbody tr th {\n",
       "        vertical-align: top;\n",
       "    }\n",
       "\n",
       "    .dataframe thead th {\n",
       "        text-align: right;\n",
       "    }\n",
       "</style>\n",
       "<table border=\"1\" class=\"dataframe\">\n",
       "  <thead>\n",
       "    <tr style=\"text-align: right;\">\n",
       "      <th></th>\n",
       "      <th>precipitation</th>\n",
       "      <th>temp_max</th>\n",
       "      <th>temp_min</th>\n",
       "      <th>wind</th>\n",
       "      <th>drizzle</th>\n",
       "      <th>fog</th>\n",
       "      <th>rain</th>\n",
       "      <th>snow</th>\n",
       "      <th>sun</th>\n",
       "    </tr>\n",
       "  </thead>\n",
       "  <tbody>\n",
       "    <tr>\n",
       "      <th>0</th>\n",
       "      <td>0.0</td>\n",
       "      <td>12.8</td>\n",
       "      <td>5.0</td>\n",
       "      <td>4.7</td>\n",
       "      <td>True</td>\n",
       "      <td>False</td>\n",
       "      <td>False</td>\n",
       "      <td>False</td>\n",
       "      <td>False</td>\n",
       "    </tr>\n",
       "    <tr>\n",
       "      <th>1</th>\n",
       "      <td>10.9</td>\n",
       "      <td>10.6</td>\n",
       "      <td>2.8</td>\n",
       "      <td>4.5</td>\n",
       "      <td>False</td>\n",
       "      <td>False</td>\n",
       "      <td>True</td>\n",
       "      <td>False</td>\n",
       "      <td>False</td>\n",
       "    </tr>\n",
       "    <tr>\n",
       "      <th>2</th>\n",
       "      <td>0.8</td>\n",
       "      <td>11.7</td>\n",
       "      <td>7.2</td>\n",
       "      <td>2.3</td>\n",
       "      <td>False</td>\n",
       "      <td>False</td>\n",
       "      <td>True</td>\n",
       "      <td>False</td>\n",
       "      <td>False</td>\n",
       "    </tr>\n",
       "    <tr>\n",
       "      <th>3</th>\n",
       "      <td>20.3</td>\n",
       "      <td>12.2</td>\n",
       "      <td>5.6</td>\n",
       "      <td>4.7</td>\n",
       "      <td>False</td>\n",
       "      <td>False</td>\n",
       "      <td>True</td>\n",
       "      <td>False</td>\n",
       "      <td>False</td>\n",
       "    </tr>\n",
       "    <tr>\n",
       "      <th>4</th>\n",
       "      <td>1.3</td>\n",
       "      <td>8.9</td>\n",
       "      <td>2.8</td>\n",
       "      <td>6.1</td>\n",
       "      <td>False</td>\n",
       "      <td>False</td>\n",
       "      <td>True</td>\n",
       "      <td>False</td>\n",
       "      <td>False</td>\n",
       "    </tr>\n",
       "    <tr>\n",
       "      <th>...</th>\n",
       "      <td>...</td>\n",
       "      <td>...</td>\n",
       "      <td>...</td>\n",
       "      <td>...</td>\n",
       "      <td>...</td>\n",
       "      <td>...</td>\n",
       "      <td>...</td>\n",
       "      <td>...</td>\n",
       "      <td>...</td>\n",
       "    </tr>\n",
       "    <tr>\n",
       "      <th>1456</th>\n",
       "      <td>8.6</td>\n",
       "      <td>4.4</td>\n",
       "      <td>1.7</td>\n",
       "      <td>2.9</td>\n",
       "      <td>False</td>\n",
       "      <td>False</td>\n",
       "      <td>True</td>\n",
       "      <td>False</td>\n",
       "      <td>False</td>\n",
       "    </tr>\n",
       "    <tr>\n",
       "      <th>1457</th>\n",
       "      <td>1.5</td>\n",
       "      <td>5.0</td>\n",
       "      <td>1.7</td>\n",
       "      <td>1.3</td>\n",
       "      <td>False</td>\n",
       "      <td>False</td>\n",
       "      <td>True</td>\n",
       "      <td>False</td>\n",
       "      <td>False</td>\n",
       "    </tr>\n",
       "    <tr>\n",
       "      <th>1458</th>\n",
       "      <td>0.0</td>\n",
       "      <td>7.2</td>\n",
       "      <td>0.6</td>\n",
       "      <td>2.6</td>\n",
       "      <td>False</td>\n",
       "      <td>True</td>\n",
       "      <td>False</td>\n",
       "      <td>False</td>\n",
       "      <td>False</td>\n",
       "    </tr>\n",
       "    <tr>\n",
       "      <th>1459</th>\n",
       "      <td>0.0</td>\n",
       "      <td>5.6</td>\n",
       "      <td>-1.0</td>\n",
       "      <td>3.4</td>\n",
       "      <td>False</td>\n",
       "      <td>False</td>\n",
       "      <td>False</td>\n",
       "      <td>False</td>\n",
       "      <td>True</td>\n",
       "    </tr>\n",
       "    <tr>\n",
       "      <th>1460</th>\n",
       "      <td>0.0</td>\n",
       "      <td>5.6</td>\n",
       "      <td>-2.1</td>\n",
       "      <td>3.5</td>\n",
       "      <td>False</td>\n",
       "      <td>False</td>\n",
       "      <td>False</td>\n",
       "      <td>False</td>\n",
       "      <td>True</td>\n",
       "    </tr>\n",
       "  </tbody>\n",
       "</table>\n",
       "<p>1461 rows × 9 columns</p>\n",
       "</div>"
      ],
      "text/plain": [
       "      precipitation  temp_max  temp_min  wind  drizzle    fog   rain   snow   \n",
       "0               0.0      12.8       5.0   4.7     True  False  False  False  \\\n",
       "1              10.9      10.6       2.8   4.5    False  False   True  False   \n",
       "2               0.8      11.7       7.2   2.3    False  False   True  False   \n",
       "3              20.3      12.2       5.6   4.7    False  False   True  False   \n",
       "4               1.3       8.9       2.8   6.1    False  False   True  False   \n",
       "...             ...       ...       ...   ...      ...    ...    ...    ...   \n",
       "1456            8.6       4.4       1.7   2.9    False  False   True  False   \n",
       "1457            1.5       5.0       1.7   1.3    False  False   True  False   \n",
       "1458            0.0       7.2       0.6   2.6    False   True  False  False   \n",
       "1459            0.0       5.6      -1.0   3.4    False  False  False  False   \n",
       "1460            0.0       5.6      -2.1   3.5    False  False  False  False   \n",
       "\n",
       "        sun  \n",
       "0     False  \n",
       "1     False  \n",
       "2     False  \n",
       "3     False  \n",
       "4     False  \n",
       "...     ...  \n",
       "1456  False  \n",
       "1457  False  \n",
       "1458  False  \n",
       "1459   True  \n",
       "1460   True  \n",
       "\n",
       "[1461 rows x 9 columns]"
      ]
     },
     "execution_count": 6,
     "metadata": {},
     "output_type": "execute_result"
    }
   ],
   "source": [
    "df = pd.read_csv(\"seattle-weather.csv\")\n",
    "weather_tof = pd.get_dummies(df['weather'])\n",
    "df = pd.concat([df, weather_tof], axis=1)\n",
    "df = df.drop(columns=['date', 'weather'])\n",
    "df"
   ]
  },
  {
   "cell_type": "code",
   "execution_count": 40,
   "metadata": {},
   "outputs": [
    {
     "data": {
      "text/html": [
       "<div>\n",
       "<style scoped>\n",
       "    .dataframe tbody tr th:only-of-type {\n",
       "        vertical-align: middle;\n",
       "    }\n",
       "\n",
       "    .dataframe tbody tr th {\n",
       "        vertical-align: top;\n",
       "    }\n",
       "\n",
       "    .dataframe thead th {\n",
       "        text-align: right;\n",
       "    }\n",
       "</style>\n",
       "<table border=\"1\" class=\"dataframe\">\n",
       "  <thead>\n",
       "    <tr style=\"text-align: right;\">\n",
       "      <th></th>\n",
       "      <th>precipitation</th>\n",
       "      <th>temp_max</th>\n",
       "      <th>temp_min</th>\n",
       "      <th>wind</th>\n",
       "      <th>drizzle</th>\n",
       "      <th>fog</th>\n",
       "      <th>rain</th>\n",
       "      <th>snow</th>\n",
       "      <th>sun</th>\n",
       "    </tr>\n",
       "  </thead>\n",
       "  <tbody>\n",
       "    <tr>\n",
       "      <th>5</th>\n",
       "      <td>2.5</td>\n",
       "      <td>4.4</td>\n",
       "      <td>2.2</td>\n",
       "      <td>2.2</td>\n",
       "      <td>False</td>\n",
       "      <td>False</td>\n",
       "      <td>True</td>\n",
       "      <td>False</td>\n",
       "      <td>False</td>\n",
       "    </tr>\n",
       "    <tr>\n",
       "      <th>6</th>\n",
       "      <td>0.0</td>\n",
       "      <td>7.2</td>\n",
       "      <td>2.8</td>\n",
       "      <td>2.3</td>\n",
       "      <td>False</td>\n",
       "      <td>False</td>\n",
       "      <td>True</td>\n",
       "      <td>False</td>\n",
       "      <td>False</td>\n",
       "    </tr>\n",
       "    <tr>\n",
       "      <th>7</th>\n",
       "      <td>0.0</td>\n",
       "      <td>10.0</td>\n",
       "      <td>2.8</td>\n",
       "      <td>2.0</td>\n",
       "      <td>False</td>\n",
       "      <td>False</td>\n",
       "      <td>False</td>\n",
       "      <td>False</td>\n",
       "      <td>True</td>\n",
       "    </tr>\n",
       "    <tr>\n",
       "      <th>8</th>\n",
       "      <td>4.3</td>\n",
       "      <td>9.4</td>\n",
       "      <td>5.0</td>\n",
       "      <td>3.4</td>\n",
       "      <td>False</td>\n",
       "      <td>False</td>\n",
       "      <td>True</td>\n",
       "      <td>False</td>\n",
       "      <td>False</td>\n",
       "    </tr>\n",
       "    <tr>\n",
       "      <th>9</th>\n",
       "      <td>1.0</td>\n",
       "      <td>6.1</td>\n",
       "      <td>0.6</td>\n",
       "      <td>3.4</td>\n",
       "      <td>False</td>\n",
       "      <td>False</td>\n",
       "      <td>True</td>\n",
       "      <td>False</td>\n",
       "      <td>False</td>\n",
       "    </tr>\n",
       "    <tr>\n",
       "      <th>...</th>\n",
       "      <td>...</td>\n",
       "      <td>...</td>\n",
       "      <td>...</td>\n",
       "      <td>...</td>\n",
       "      <td>...</td>\n",
       "      <td>...</td>\n",
       "      <td>...</td>\n",
       "      <td>...</td>\n",
       "      <td>...</td>\n",
       "    </tr>\n",
       "    <tr>\n",
       "      <th>1456</th>\n",
       "      <td>8.6</td>\n",
       "      <td>4.4</td>\n",
       "      <td>1.7</td>\n",
       "      <td>2.9</td>\n",
       "      <td>False</td>\n",
       "      <td>False</td>\n",
       "      <td>True</td>\n",
       "      <td>False</td>\n",
       "      <td>False</td>\n",
       "    </tr>\n",
       "    <tr>\n",
       "      <th>1457</th>\n",
       "      <td>1.5</td>\n",
       "      <td>5.0</td>\n",
       "      <td>1.7</td>\n",
       "      <td>1.3</td>\n",
       "      <td>False</td>\n",
       "      <td>False</td>\n",
       "      <td>True</td>\n",
       "      <td>False</td>\n",
       "      <td>False</td>\n",
       "    </tr>\n",
       "    <tr>\n",
       "      <th>1458</th>\n",
       "      <td>0.0</td>\n",
       "      <td>7.2</td>\n",
       "      <td>0.6</td>\n",
       "      <td>2.6</td>\n",
       "      <td>False</td>\n",
       "      <td>True</td>\n",
       "      <td>False</td>\n",
       "      <td>False</td>\n",
       "      <td>False</td>\n",
       "    </tr>\n",
       "    <tr>\n",
       "      <th>1459</th>\n",
       "      <td>0.0</td>\n",
       "      <td>5.6</td>\n",
       "      <td>-1.0</td>\n",
       "      <td>3.4</td>\n",
       "      <td>False</td>\n",
       "      <td>False</td>\n",
       "      <td>False</td>\n",
       "      <td>False</td>\n",
       "      <td>True</td>\n",
       "    </tr>\n",
       "    <tr>\n",
       "      <th>1460</th>\n",
       "      <td>0.0</td>\n",
       "      <td>5.6</td>\n",
       "      <td>-2.1</td>\n",
       "      <td>3.5</td>\n",
       "      <td>False</td>\n",
       "      <td>False</td>\n",
       "      <td>False</td>\n",
       "      <td>False</td>\n",
       "      <td>True</td>\n",
       "    </tr>\n",
       "  </tbody>\n",
       "</table>\n",
       "<p>1456 rows × 9 columns</p>\n",
       "</div>"
      ],
      "text/plain": [
       "      precipitation  temp_max  temp_min  wind  drizzle    fog   rain   snow   \n",
       "5               2.5       4.4       2.2   2.2    False  False   True  False  \\\n",
       "6               0.0       7.2       2.8   2.3    False  False   True  False   \n",
       "7               0.0      10.0       2.8   2.0    False  False  False  False   \n",
       "8               4.3       9.4       5.0   3.4    False  False   True  False   \n",
       "9               1.0       6.1       0.6   3.4    False  False   True  False   \n",
       "...             ...       ...       ...   ...      ...    ...    ...    ...   \n",
       "1456            8.6       4.4       1.7   2.9    False  False   True  False   \n",
       "1457            1.5       5.0       1.7   1.3    False  False   True  False   \n",
       "1458            0.0       7.2       0.6   2.6    False   True  False  False   \n",
       "1459            0.0       5.6      -1.0   3.4    False  False  False  False   \n",
       "1460            0.0       5.6      -2.1   3.5    False  False  False  False   \n",
       "\n",
       "        sun  \n",
       "5     False  \n",
       "6     False  \n",
       "7      True  \n",
       "8     False  \n",
       "9     False  \n",
       "...     ...  \n",
       "1456  False  \n",
       "1457  False  \n",
       "1458  False  \n",
       "1459   True  \n",
       "1460   True  \n",
       "\n",
       "[1456 rows x 9 columns]"
      ]
     },
     "execution_count": 40,
     "metadata": {},
     "output_type": "execute_result"
    }
   ],
   "source": [
    "df_train = df.iloc[0:5].to_numpy()\n",
    "df_test = df.iloc[5:]\n",
    "df_test"
   ]
  },
  {
   "cell_type": "code",
   "execution_count": 8,
   "metadata": {},
   "outputs": [
    {
     "data": {
      "text/plain": [
       "array([[4.7, True, False, False, False, False],\n",
       "       [4.5, False, False, True, False, False],\n",
       "       [2.3, False, False, True, False, False],\n",
       "       ...,\n",
       "       [2.6, False, True, False, False, False],\n",
       "       [3.4, False, False, False, False, True],\n",
       "       [3.5, False, False, False, False, True]], dtype=object)"
      ]
     },
     "execution_count": 8,
     "metadata": {},
     "output_type": "execute_result"
    }
   ],
   "source": [
    "#usar las columnas de wind\tdrizzle\tfog\train\tsnow\tsun como salida \n",
    "training_outputs = df[['wind', 'drizzle', 'fog', 'rain', 'snow', 'sun']].to_numpy()\n",
    "training_inputs = df[['precipitation',\t'temp_max',\t'temp_min']].to_numpy()\n",
    "training_inputs\n",
    "training_outputs\n",
    "\n"
   ]
  },
  {
   "cell_type": "markdown",
   "metadata": {},
   "source": [
    "Separar los synaptic wights"
   ]
  },
  {
   "cell_type": "code",
   "execution_count": 13,
   "metadata": {},
   "outputs": [],
   "source": [
    "#hacer los sinaptic weights\n",
    "n = training_inputs.shape[1]\n",
    "synaptic_weights = 2 + np.random.random((3, 6)) - 1\n",
    "w = synaptic_weights\n",
    "x = training_inputs\n",
    "eval_NN = lambda x, w: sigmoid(np.dot(x, w))\n",
    "\n",
    "w = w.astype('float64')\n",
    "\n"
   ]
  },
  {
   "cell_type": "markdown",
   "metadata": {},
   "source": [
    "probar los W tras varias iteraciones "
   ]
  },
  {
   "cell_type": "code",
   "execution_count": 14,
   "metadata": {},
   "outputs": [
    {
     "name": "stderr",
     "output_type": "stream",
     "text": [
      "C:\\Users\\usuario\\AppData\\Local\\Temp\\ipykernel_36712\\2797513374.py:2: RuntimeWarning: overflow encountered in exp\n",
      "  return 1 / ( 1 + np.exp(-x) )\n"
     ]
    }
   ],
   "source": [
    "for iteration in range(50000):\n",
    "\n",
    "    # Arranca con los valores de training\n",
    "    input_layer = x\n",
    "\n",
    "    # Genera un output haciendo la suma de los valores de input multiplicados por su peso sinaptico, y aplicandole la función sigmoide para normalizar a -1, 1\n",
    "    outputs = eval_NN(input_layer, w)\n",
    "\n",
    "    # Calculo el error\n",
    "    error = training_outputs - outputs\n",
    "\n",
    "    # Ajusto los pesos en funcion al error y al resultado obtenido\n",
    "    adjustments = error * sigmoid_derivative(outputs)\n",
    "    w += np.dot(input_layer.T, adjustments).astype('float64')    "
   ]
  },
  {
   "cell_type": "code",
   "execution_count": 15,
   "metadata": {},
   "outputs": [
    {
     "name": "stdout",
     "output_type": "stream",
     "text": [
      "Synaptic weights after training\n",
      "[[ 2.84658586e+00 -3.57356324e+00 -9.63742734e-01  1.70016508e+00\n",
      "  -1.32766200e-02 -1.59233604e+01]\n",
      " [ 1.66550310e+01 -1.74583469e+01 -8.16409614e+00 -2.91140988e+01\n",
      "  -4.79933725e+01  8.92101093e+01]\n",
      " [-9.86762169e+00  5.91931230e+00  6.07163779e+00  3.99943928e+00\n",
      "  -5.12262049e+00  4.25273920e+01]]\n",
      "Outputs after training: \n",
      "[[1.00000000e+000 6.35626472e-085 6.31587553e-033 6.92282753e-154\n",
      "  1.20971618e-278 1.00000000e+000]\n",
      " [1.00000000e+000 8.15794716e-091 1.72780040e-035 7.66110497e-122\n",
      "  5.88025703e-228 1.00000000e+000]\n",
      " [1.00000000e+000 3.60979073e-072 1.46863024e-023 1.44789489e-135\n",
      "  1.29198198e-260 1.00000000e+000]\n",
      " ...\n",
      " [1.00000000e+000 8.94487489e-054 1.13148699e-024 1.01086676e-090\n",
      "  3.92387639e-152 1.00000000e+000]\n",
      " [1.00000000e+000 9.32648783e-046 3.21838911e-023 2.85856606e-073\n",
      "  3.18044248e-115 1.00000000e+000]\n",
      " [1.00000000e+000 1.38650593e-048 4.04642863e-026 3.51173139e-075\n",
      "  8.90606655e-113 1.00000000e+000]]\n"
     ]
    }
   ],
   "source": [
    "print('Synaptic weights after training')\n",
    "print(w)\n",
    "\n",
    "print('Outputs after training: ')\n",
    "print(outputs)"
   ]
  },
  {
   "cell_type": "code",
   "execution_count": 16,
   "metadata": {},
   "outputs": [],
   "source": [
    "large = lambda x : display(HTML('<p style=\"font-size: 50px; color: #66D148\">'+str(x)+'</p>'))"
   ]
  },
  {
   "cell_type": "markdown",
   "metadata": {},
   "source": [
    "evaluar la "
   ]
  },
  {
   "cell_type": "code",
   "execution_count": 44,
   "metadata": {},
   "outputs": [
    {
     "name": "stderr",
     "output_type": "stream",
     "text": [
      "C:\\Users\\usuario\\AppData\\Local\\Temp\\ipykernel_36712\\2797513374.py:2: RuntimeWarning: overflow encountered in exp\n",
      "  return 1 / ( 1 + np.exp(-x) )\n"
     ]
    },
    {
     "data": {
      "text/plain": [
       "array([1.00000000e+000, 6.35634782e-085, 6.31587553e-033, 6.92290843e-154,\n",
       "       1.20971618e-278, 1.00000000e+000])"
      ]
     },
     "metadata": {},
     "output_type": "display_data"
    },
    {
     "data": {
      "text/html": [
       "<p style=\"font-size: 50px; color: #66D148\">1</p>"
      ],
      "text/plain": [
       "<IPython.core.display.HTML object>"
      ]
     },
     "metadata": {},
     "output_type": "display_data"
    }
   ],
   "source": [
    "a = 1 #@param {type:\"integer\"}\n",
    "c = 3 #@param {type:\"integer\"}\n",
    "b = 4 #@param {type:\"integer\"}\n",
    "\n",
    "input_layer = np.array(training_inputs)\n",
    "res = sigmoid(np.dot(input_layer, w))[0]\n",
    "display(res)\n",
    "\n",
    "thresh = 0.01\n",
    "out = 0 if np.all(res < thresh) else 1\n",
    "large(out)"
   ]
  },
  {
   "cell_type": "code",
   "execution_count": 53,
   "metadata": {},
   "outputs": [
    {
     "data": {
      "image/png": "[encoded data removed]",
      "text/plain": [
       "<Figure size 640x480 with 1 Axes>"
      ]
     },
     "metadata": {},
     "output_type": "display_data"
    }
   ],
   "source": [
    "G = nx.DiGraph()\n",
    "layers = [[0, 1, 2], [3]]\n",
    "\n",
    "rels = list(itertools.product(*layers))\n",
    "flatten = lambda l: [x for i in l for x in i]\n",
    "\n",
    "labels = {i: v for i, v in enumerate(input_layer) if i in flatten(rels)}\n",
    "labels[3] = np.round(res, 3)\n",
    "\n",
    "pos = {}\n",
    "m = max([len(l) for l in layers])\n",
    "for i, l in enumerate(layers):\n",
    "  for j, v in enumerate(l):\n",
    "    pos[v] = (i, len(l) - j)\n",
    "\n",
    "pos[3] = (pos[3][0], pos[1][1])\n",
    "\n",
    "weights_labels = {(ra, rb): \"{:0.3f}\".format(synaptic_weights[i][0]) for i, (ra, rb) in enumerate(rels)}\n",
    "\n",
    "node_colors = [(1, 1, 1, 1) for _ in range(len(G.nodes()))]\n",
    "options = {\n",
    "    \"font_size\": 16,\n",
    "    \"node_size\": 3000,\n",
    "    \"node_color\": node_colors,\n",
    "    \"edgecolors\": \"black\",\n",
    "    \"linewidths\": 3,\n",
    "    \"width\": 3,\n",
    "    \"labels\": labels,\n",
    "    \"connectionstyle\": \"arc3, rad=0\",\n",
    "}\n",
    "G.add_edges_from(rels)\n",
    "for node in G.nodes():\n",
    "    if node not in pos:\n",
    "        pos[node] = (0, 0)\n",
    "for node in flatten(rels):\n",
    "    if node not in pos:\n",
    "        pos[node] = (0, 0)\n",
    "\n",
    "G.add_nodes_from(flatten(rels))\n",
    "\n",
    "nx.draw_networkx(G, pos, **options)\n",
    "\n",
    "nx.draw_networkx_edge_labels(\n",
    "    G, pos,\n",
    "    edge_labels=weights_labels,\n",
    "    font_color='black',\n",
    "    font_size=16, \n",
    "    font_weight='bold'\n",
    ")\n",
    "\n",
    "plt.axis('off')\n",
    "ax = plt.gca()\n",
    "ax.margins(0.20)\n",
    "plt.show()"
   ]
  },
  {
   "cell_type": "code",
   "execution_count": 54,
   "metadata": {},
   "outputs": [
    {
     "data": {
      "text/plain": [
       "1.3695493955214066"
      ]
     },
     "execution_count": 54,
     "metadata": {},
     "output_type": "execute_result"
    }
   ],
   "source": [
    "error = np.mean(np.square(training_outputs - outputs))\n",
    "error"
   ]
  },
  {
   "cell_type": "code",
   "execution_count": 55,
   "metadata": {},
   "outputs": [
    {
     "data": {
      "text/plain": [
       "array([[ 2.5,  4.4,  2.2],\n",
       "       [ 0. ,  7.2,  2.8],\n",
       "       [ 0. , 10. ,  2.8],\n",
       "       ...,\n",
       "       [ 0. ,  7.2,  0.6],\n",
       "       [ 0. ,  5.6, -1. ],\n",
       "       [ 0. ,  5.6, -2.1]])"
      ]
     },
     "execution_count": 55,
     "metadata": {},
     "output_type": "execute_result"
    }
   ],
   "source": [
    "predictions = np.array(df_test[['precipitation',\t'temp_max',\t'temp_min']])\n",
    "predictions"
   ]
  },
  {
   "cell_type": "code",
   "execution_count": 42,
   "metadata": {},
   "outputs": [
    {
     "name": "stderr",
     "output_type": "stream",
     "text": [
      "C:\\Users\\usuario\\AppData\\Local\\Temp\\ipykernel_36712\\2797513374.py:2: RuntimeWarning: overflow encountered in exp\n",
      "  return 1 / ( 1 + np.exp(-x) )\n"
     ]
    },
    {
     "data": {
      "text/plain": [
       "array([[1.00000000e+000, 2.59756776e-032, 1.42569483e-011,\n",
       "        1.07939317e-050, 2.40357815e-097, 1.00000000e+000],\n",
       "       [1.00000000e+000, 4.04734520e-048, 7.15785496e-019,\n",
       "        6.69808493e-087, 5.00401423e-157, 1.00000000e+000],\n",
       "       [1.00000000e+000, 2.38446973e-069, 8.45359744e-029,\n",
       "        2.64540256e-122, 2.17870989e-215, 1.00000000e+000],\n",
       "       ...,\n",
       "       [1.00000000e+000, 8.94490993e-054, 1.13148699e-024,\n",
       "        1.01086917e-090, 3.92387639e-152, 1.00000000e+000],\n",
       "       [1.00000000e+000, 9.32649499e-046, 3.21838911e-023,\n",
       "        2.85856340e-073, 3.18044248e-115, 1.00000000e+000],\n",
       "       [1.00000000e+000, 1.38650463e-048, 4.04642863e-026,\n",
       "        3.51172080e-075, 8.90606655e-113, 1.00000000e+000]])"
      ]
     },
     "execution_count": 42,
     "metadata": {},
     "output_type": "execute_result"
    }
   ],
   "source": [
    "#evaluer modelo \n",
    "eval_NN(predictions, w) "
   ]
  }
 ],
 "metadata": {
  "kernelspec": {
   "display_name": "Python 3",
   "language": "python",
   "name": "python3"
  },
  "language_info": {
   "codemirror_mode": {
    "name": "ipython",
    "version": 3
   },
   "file_extension": ".py",
   "mimetype": "text/x-python",
   "name": "python",
   "nbconvert_exporter": "python",
   "pygments_lexer": "ipython3",
   "version": "3.11.6"
  }
 },
 "nbformat": 4,
 "nbformat_minor": 2
}
