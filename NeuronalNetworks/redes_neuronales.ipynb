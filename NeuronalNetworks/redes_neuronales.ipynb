{
 "cells": [
  {
   "cell_type": "markdown",
   "metadata": {},
   "source": [
    "https://github.com/IgnacioPardo/Tecnologias_Exponenciales_2023/blob/main/Consigna_NN.md\n",
    "https://github.com/IgnacioPardo/SNN/tree/main\n",
    "\n",
    "# Trabajo Práctico Redes Neuronales\n",
    "\n",
    "## Introducción\n",
    "\n",
    "El objetivo de este trabajo es plantear una red neuronal con una capa de entrada con $n$ neuronas y una capa de salida con $m$ salidas para resolver un problema de su propía creación.\n",
    "\n",
    "Se evaluara la correcta implementación de la red neuronal y la explicación de los elementos de la teoría vistos en clase.\n",
    "\n",
    "## Consigna\n",
    "\n",
    "A partir del siguiente Notebook visto en clase [SNN](https://github.com/IgnacioPardo/SNN/blob/main/SNN.ipynb), se pide:\n",
    "\n",
    "1. Plantear un problema a resolver con una red neuronal de una capa de entrada y una capa de salida. Las salidas no deben ser excluyentes, es decir, pueden pertenecer a mas de una clase. Algunos ejemplos son: A partir de caracteristicas de una vivienda, determinar si la vivienda es de algun estilo (moderna, agradable, tradicional). Pueden generar ustedes un pequeño dataset para utilizar o buscar en Kaggle.\n",
    "2. Modificar la estructura de la red neuronal para que admita $n$ neuronas de entrada y $m$ neuronas de salida.\n",
    "\n",
    "Ademas deben indicar los elementos de la teoría que vimos en clase que identifiquen en el código y explicarlos (Estructura de la Red, Función de activación, Forward propagation, Back propagation y Gradiente descendente).\n",
    "\n",
    "## Bonus\n",
    "\n",
    "A. ¿Como modificarían la estructura de la red para que admita $k$ capas ocultas con $n$ neuronas cada una? Describir como sería el algoritmo de forward propagation en este caso, no es necesario implementar el algoritmo de back propagation.\n",
    "\n",
    "B. Investigar la función de activación Softmax y explicar como se puede utilizar para resolver un problema de clasificación con $m$ clases mutualmente excluyentes. ¿Que habría que modificar en el código para utilizar esta función de activación?\n",
    "\n",
    "## Entrega\n",
    "\n",
    "La entrega consiste en un notebook de Jupyter con el código y las explicaciones correspondientes. La fecha de entrega es el 29/10/2023 a través del siguiente [Google Forms]()."
   ]
  },
  {
   "cell_type": "code",
   "execution_count": null,
   "metadata": {},
   "outputs": [],
   "source": [
    "import numpy as np\n",
    "import pandas as pd\n",
    "import matplotlib.pyplot as plt\n",
    "from IPython.display import HTML, display\n",
    "import tabulate\n",
    "import networkx as nx\n",
    "from random import random as rand\n",
    "import itertools"
   ]
  },
  {
   "cell_type": "code",
   "execution_count": null,
   "metadata": {},
   "outputs": [],
   "source": [
    "def sigmoid(x):\n",
    "    return 1 / ( 1 + np.exp(-x) )\n",
    "\n",
    "# sigmoid = lambda x : 1 / ( 1 + np.exp(-x) )\n",
    "\n",
    "def sigmoid_derivative(x):\n",
    "    return x * (1 - x)"
   ]
  },
  {
   "cell_type": "code",
   "execution_count": null,
   "metadata": {},
   "outputs": [],
   "source": [
    "df = pd.read_csv(\"seattle-weather.csv\")\n",
    "df = df.drop(columns=['date'])\n",
    "weather_tof = pd.get_dummies(df['weather'])\n",
    "df = pd.concat([df, weather_tof], axis=1)\n",
    "df"
   ]
  }
 ],
 "metadata": {
  "kernelspec": {
   "display_name": "Python 3",
   "language": "python",
   "name": "python3"
  },
  "language_info": {
   "codemirror_mode": {
    "name": "ipython",
    "version": 3
   },
   "file_extension": ".py",
   "mimetype": "text/x-python",
   "name": "python",
   "nbconvert_exporter": "python",
   "pygments_lexer": "ipython3",
   "version": "3.10.0"
  }
 },
 "nbformat": 4,
 "nbformat_minor": 2
}
