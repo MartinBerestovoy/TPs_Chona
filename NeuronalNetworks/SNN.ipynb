{
  "cells": [
    {
      "cell_type": "markdown",
      "metadata": {
        "colab_type": "text",
        "id": "view-in-github"
      },
      "source": [
        "<a href=\"https://colab.research.google.com/github/IgnacioPardo/SNN/blob/main/SNN.ipynb\" target=\"_parent\"><img src=\"https://colab.research.google.com/assets/colab-badge.svg\" alt=\"Open In Colab\"/></a>"
      ]
    },
    {
      "cell_type": "markdown",
      "metadata": {
        "id": "E5MvfaYmnfke"
      },
      "source": [
        "# Simple Neural Network\n",
        "\n",
        "Simple Red Neuronal (Perceptrón) para la materia Tecnologías Exponenciales - TIC\n",
        "\n",
        "Inspirado en https://github.com/jonasbostoen/simple-neural-network"
      ]
    },
    {
      "cell_type": "markdown",
      "metadata": {
        "id": "WYr3ptD1nklQ"
      },
      "source": [
        "### Librerias"
      ]
    },
    {
      "cell_type": "code",
      "execution_count": 1,
      "metadata": {
        "id": "ZLJi7O0hCEn3"
      },
      "outputs": [],
      "source": [
        "import numpy as np\n",
        "import pandas as pd\n",
        "import matplotlib.pyplot as plt\n",
        "from IPython.display import HTML, display\n",
        "import tabulate\n",
        "import networkx as nx\n",
        "from random import random as rand\n",
        "import itertools"
      ]
    },
    {
      "cell_type": "code",
      "execution_count": 2,
      "metadata": {
        "id": "lUUgSMF_CM5m"
      },
      "outputs": [],
      "source": [
        "np.random.seed(1)"
      ]
    },
    {
      "cell_type": "markdown",
      "metadata": {
        "id": "b8-iBQcXnmQz"
      },
      "source": [
        "### Funciones"
      ]
    },
    {
      "cell_type": "code",
      "execution_count": 3,
      "metadata": {
        "id": "d-ylyCurCJpi"
      },
      "outputs": [],
      "source": [
        "def sigmoid(x):\n",
        "    return 1 / ( 1 + np.exp(-x) )\n",
        "\n",
        "# sigmoid = lambda x : 1 / ( 1 + np.exp(-x) )\n",
        "\n",
        "def sigmoid_derivative(x):\n",
        "    return x * (1 - x)\n",
        "\n",
        "# sigmoid_derivative = lambda x : x * (1 - x)"
      ]
    },
    {
      "cell_type": "markdown",
      "metadata": {
        "id": "R5ycxQ3TFT8S"
      },
      "source": [
        "\n",
        "Sigmoid Function\n",
        "$$\\operatorname{f}(x)=\\frac{1}{1+e^{(-x)}}$$\n",
        "\n",
        "Sigmoid Derivative Function\n",
        "$$\\operatorname{f'}(x)=x \\times (1-x)$$"
      ]
    },
    {
      "cell_type": "markdown",
      "metadata": {
        "id": "Q0ikk-Oyno28"
      },
      "source": [
        "#### Visualización Función Sigmoide"
      ]
    },
    {
      "cell_type": "code",
      "execution_count": 4,
      "metadata": {
        "colab": {
          "base_uri": "https://localhost:8080/",
          "height": 273
        },
        "id": "_T8o08_KGUpQ",
        "outputId": "dbb3c515-0ee4-4786-8854-bf8ebef6b524"
      },
      "outputs": [
        {
          "data": {
            "image/png": "[encoded data removed]",
            "text/plain": [
              "<Figure size 640x480 with 1 Axes>"
            ]
          },
          "metadata": {},
          "output_type": "display_data"
        }
      ],
      "source": [
        "x = np.linspace(-5,5,100)\n",
        "y = sigmoid(x)\n",
        "fig = plt.figure()\n",
        "ax = fig.add_subplot(1, 1, 1)\n",
        "\n",
        "# Move left y-axis and bottim x-axis to centre, passing through (0,0)\n",
        "ax.spines['left'].set_position('center')\n",
        "\n",
        "# Eliminate upper and right axes\n",
        "ax.spines['right'].set_color('none')\n",
        "ax.spines['top'].set_color('none')\n",
        "\n",
        "plt.plot(x, y)\n",
        "plt.locator_params(axis='y', nbins=3)\n",
        "plt.yticks(fontsize=18)\n",
        "plt.xticks(fontsize=18)\n",
        "plt.grid()"
      ]
    },
    {
      "cell_type": "markdown",
      "metadata": {
        "id": "Lt58rBeCoBqX"
      },
      "source": [
        "## Setup"
      ]
    },
    {
      "cell_type": "markdown",
      "metadata": {
        "id": "wlwVE47Lntcq"
      },
      "source": [
        "### Values"
      ]
    },
    {
      "cell_type": "markdown",
      "metadata": {
        "id": "xvUJGV0Huj1F"
      },
      "source": [
        "#### Training Values"
      ]
    },
    {
      "cell_type": "code",
      "execution_count": 5,
      "metadata": {
        "colab": {
          "base_uri": "https://localhost:8080/",
          "height": 156
        },
        "id": "IJe-z6WUCH98",
        "outputId": "fb5963d9-2e0e-469b-980d-a7e277b1240b"
      },
      "outputs": [
        {
          "data": {
            "text/plain": [
              "array([[0, 0, 1],\n",
              "       [1, 1, 1],\n",
              "       [1, 0, 1],\n",
              "       [0, 1, 1]])"
            ]
          },
          "metadata": {},
          "output_type": "display_data"
        },
        {
          "data": {
            "text/plain": [
              "array([[0],\n",
              "       [1],\n",
              "       [1],\n",
              "       [0]])"
            ]
          },
          "metadata": {},
          "output_type": "display_data"
        }
      ],
      "source": [
        "training_inputs = np.array([\n",
        "    [0,0,1],\n",
        "    [1,1,1],\n",
        "    [1,0,1],\n",
        "    [0,1,1]\n",
        "])\n",
        "\n",
        "training_outputs = np.array([[0,1,1,0]]).T\n",
        "\n",
        "display(training_inputs)\n",
        "display(training_outputs)"
      ]
    },
    {
      "cell_type": "code",
      "execution_count": 6,
      "metadata": {
        "colab": {
          "base_uri": "https://localhost:8080/",
          "height": 103
        },
        "id": "PCajxnvAdyhl",
        "outputId": "c5e7b0c3-c9f7-4bf7-fb8e-cda04a487f25"
      },
      "outputs": [
        {
          "data": {
            "text/html": [
              "<table>\n",
              "<tbody>\n",
              "<tr><td style=\"text-align: right;\">0</td><td style=\"text-align: right;\">0</td><td style=\"text-align: right;\">1</td><td style=\"text-align: right;\">0</td></tr>\n",
              "<tr><td style=\"text-align: right;\">1</td><td style=\"text-align: right;\">1</td><td style=\"text-align: right;\">1</td><td style=\"text-align: right;\">1</td></tr>\n",
              "<tr><td style=\"text-align: right;\">1</td><td style=\"text-align: right;\">0</td><td style=\"text-align: right;\">1</td><td style=\"text-align: right;\">1</td></tr>\n",
              "<tr><td style=\"text-align: right;\">0</td><td style=\"text-align: right;\">1</td><td style=\"text-align: right;\">1</td><td style=\"text-align: right;\">0</td></tr>\n",
              "</tbody>\n",
              "</table>"
            ],
            "text/plain": [
              "<IPython.core.display.HTML object>"
            ]
          },
          "metadata": {},
          "output_type": "display_data"
        }
      ],
      "source": [
        "training_values = np.concatenate((training_inputs.T, training_outputs.T)).T\n",
        "table = lambda arr : display(HTML(tabulate.tabulate(arr, tablefmt='html')))\n",
        "table(training_values)"
      ]
    },
    {
      "cell_type": "markdown",
      "metadata": {
        "id": "WM0UGBrAnxKs"
      },
      "source": [
        "#### Synaptic weights "
      ]
    },
    {
      "cell_type": "code",
      "execution_count": 7,
      "metadata": {
        "colab": {
          "base_uri": "https://localhost:8080/",
          "height": 0
        },
        "id": "2WjmwkX7E6t1",
        "outputId": "ed66ea3b-25d7-40d1-fafb-2afa097da45e"
      },
      "outputs": [
        {
          "data": {
            "text/plain": [
              "array([[1.417022  ],\n",
              "       [1.72032449],\n",
              "       [1.00011437]])"
            ]
          },
          "execution_count": 7,
          "metadata": {},
          "output_type": "execute_result"
        }
      ],
      "source": [
        "n = training_inputs.shape[1]\n",
        "synaptic_weights = 2 + np.random.random((3, 1)) - 1\n",
        "\n",
        "synaptic_weights"
      ]
    },
    {
      "cell_type": "markdown",
      "metadata": {
        "id": "SvRwhjxMn-lw"
      },
      "source": [
        "## Training"
      ]
    },
    {
      "cell_type": "markdown",
      "metadata": {
        "id": "vyFklb0-ptf3"
      },
      "source": [
        "Para obtener un resultado a partir de los inputs y los synaptic weights se realiza la siguiente función:\n",
        "\n",
        "$$\\sum_{i=0}^{n}{x_iw_i}$$\n",
        "\n",
        "Y se le aplica la función sigmoide para normalizar al rango 0, 1\n",
        "\n",
        "Por ejemplo, si nuestros inputs $x_i$ son `[1, 1, 1]` y nuestros pesos sinapticos $w_i$ son `[[11.30926442], [-0.20511667], [-5.4500033]]`\n",
        "\n",
        "Nos resulta la cuenta\n",
        "$$[1 \\times 11.30926442] + [1 \\times (-0.20511667)] + [1 \\times (-5.4500033)] = 5.6541444499999995$$\n",
        "\n",
        "Con la función sigmoide es facil ver como $$\\operatorname{sigmoid}(5.65) \\approx 1$$"
      ]
    },
    {
      "cell_type": "code",
      "execution_count": 15,
      "metadata": {
        "id": "cVzwPQlYstOz"
      },
      "outputs": [
        {
          "data": {
            "text/plain": [
              "array([-5.        , -4.8989899 , -4.7979798 , -4.6969697 , -4.5959596 ,\n",
              "       -4.49494949, -4.39393939, -4.29292929, -4.19191919, -4.09090909,\n",
              "       -3.98989899, -3.88888889, -3.78787879, -3.68686869, -3.58585859,\n",
              "       -3.48484848, -3.38383838, -3.28282828, -3.18181818, -3.08080808,\n",
              "       -2.97979798, -2.87878788, -2.77777778, -2.67676768, -2.57575758,\n",
              "       -2.47474747, -2.37373737, -2.27272727, -2.17171717, -2.07070707,\n",
              "       -1.96969697, -1.86868687, -1.76767677, -1.66666667, -1.56565657,\n",
              "       -1.46464646, -1.36363636, -1.26262626, -1.16161616, -1.06060606,\n",
              "       -0.95959596, -0.85858586, -0.75757576, -0.65656566, -0.55555556,\n",
              "       -0.45454545, -0.35353535, -0.25252525, -0.15151515, -0.05050505,\n",
              "        0.05050505,  0.15151515,  0.25252525,  0.35353535,  0.45454545,\n",
              "        0.55555556,  0.65656566,  0.75757576,  0.85858586,  0.95959596,\n",
              "        1.06060606,  1.16161616,  1.26262626,  1.36363636,  1.46464646,\n",
              "        1.56565657,  1.66666667,  1.76767677,  1.86868687,  1.96969697,\n",
              "        2.07070707,  2.17171717,  2.27272727,  2.37373737,  2.47474747,\n",
              "        2.57575758,  2.67676768,  2.77777778,  2.87878788,  2.97979798,\n",
              "        3.08080808,  3.18181818,  3.28282828,  3.38383838,  3.48484848,\n",
              "        3.58585859,  3.68686869,  3.78787879,  3.88888889,  3.98989899,\n",
              "        4.09090909,  4.19191919,  4.29292929,  4.39393939,  4.49494949,\n",
              "        4.5959596 ,  4.6969697 ,  4.7979798 ,  4.8989899 ,  5.        ])"
            ]
          },
          "execution_count": 15,
          "metadata": {},
          "output_type": "execute_result"
        }
      ],
      "source": [
        "eval_NN = lambda x, w: sigmoid(np.dot(x, w))\n",
        "x"
      ]
    },
    {
      "cell_type": "code",
      "execution_count": 9,
      "metadata": {
        "id": "GE6UM40eE8kR"
      },
      "outputs": [],
      "source": [
        "# 50000 epochs\n",
        "for iteration in range(50000):\n",
        "\n",
        "    # Arranca con los valores de training\n",
        "    input_layer = training_inputs\n",
        "\n",
        "    # Genera un output haciendo la suma de los valores de input multiplicados por su peso sinaptico, y aplicandole la función sigmoide para normalizar a -1, 1\n",
        "    outputs = eval_NN(input_layer, synaptic_weights)\n",
        "\n",
        "    # Calculo el error\n",
        "    error = training_outputs - outputs\n",
        "\n",
        "    # Ajusto los pesos en funcion al error y al resultado obtenido\n",
        "    adjustments = error * sigmoid_derivative(outputs)\n",
        "    synaptic_weights += np.dot(input_layer.T, adjustments)"
      ]
    },
    {
      "cell_type": "code",
      "execution_count": 10,
      "metadata": {
        "colab": {
          "base_uri": "https://localhost:8080/",
          "height": 0
        },
        "id": "8_LfZgY9FBpO",
        "outputId": "77bca46c-13b2-46a4-ef7d-2c1689c871a6"
      },
      "outputs": [
        {
          "name": "stdout",
          "output_type": "stream",
          "text": [
            "Synaptic weights after training\n",
            "[[11.30928823]\n",
            " [-0.2049903 ]\n",
            " [-5.45009058]]\n",
            "Outputs after training: \n",
            "[[0.00427758]\n",
            " [0.99650944]\n",
            " [0.99715456]\n",
            " [0.00348752]]\n"
          ]
        }
      ],
      "source": [
        "print('Synaptic weights after training')\n",
        "print(synaptic_weights)\n",
        "\n",
        "print('Outputs after training: ')\n",
        "print(outputs)"
      ]
    },
    {
      "cell_type": "markdown",
      "metadata": {
        "id": "1lBXXHfFoD67"
      },
      "source": [
        "## Eval"
      ]
    },
    {
      "cell_type": "code",
      "execution_count": 11,
      "metadata": {
        "colab": {
          "base_uri": "https://localhost:8080/",
          "height": 103
        },
        "id": "zOynLtbAeKjy",
        "outputId": "a5a69983-e66e-43e3-dae8-c5aa47dc205c"
      },
      "outputs": [
        {
          "data": {
            "text/html": [
              "<table>\n",
              "<tbody>\n",
              "<tr><td style=\"text-align: right;\">0</td><td style=\"text-align: right;\">0</td><td style=\"text-align: right;\">1</td><td style=\"text-align: right;\">0</td></tr>\n",
              "<tr><td style=\"text-align: right;\">1</td><td style=\"text-align: right;\">1</td><td style=\"text-align: right;\">1</td><td style=\"text-align: right;\">1</td></tr>\n",
              "<tr><td style=\"text-align: right;\">1</td><td style=\"text-align: right;\">0</td><td style=\"text-align: right;\">1</td><td style=\"text-align: right;\">1</td></tr>\n",
              "<tr><td style=\"text-align: right;\">0</td><td style=\"text-align: right;\">1</td><td style=\"text-align: right;\">1</td><td style=\"text-align: right;\">0</td></tr>\n",
              "</tbody>\n",
              "</table>"
            ],
            "text/plain": [
              "<IPython.core.display.HTML object>"
            ]
          },
          "metadata": {},
          "output_type": "display_data"
        }
      ],
      "source": [
        "table(training_values)"
      ]
    },
    {
      "cell_type": "code",
      "execution_count": 12,
      "metadata": {
        "id": "1V_H4tV6vzvd"
      },
      "outputs": [],
      "source": [
        "large = lambda x : display(HTML('<p style=\"font-size: 50px; color: #66D148\">'+str(x)+'</p>'))"
      ]
    },
    {
      "cell_type": "code",
      "execution_count": 13,
      "metadata": {
        "colab": {
          "base_uri": "https://localhost:8080/",
          "height": 108
        },
        "id": "wlN9Pkcwbb-J",
        "outputId": "77ccc4ba-0d3e-41a8-f3ed-757c15c6f5ee"
      },
      "outputs": [
        {
          "data": {
            "text/plain": [
              "0.9965094779738501"
            ]
          },
          "metadata": {},
          "output_type": "display_data"
        },
        {
          "data": {
            "text/html": [
              "<p style=\"font-size: 50px; color: #66D148\">1</p>"
            ],
            "text/plain": [
              "<IPython.core.display.HTML object>"
            ]
          },
          "metadata": {},
          "output_type": "display_data"
        }
      ],
      "source": [
        "a = 1 #@param {type:\"integer\"}\n",
        "c = 1 #@param {type:\"integer\"}\n",
        "b = 1 #@param {type:\"integer\"}\n",
        "\n",
        "input_layer = np.array([a, b, c])\n",
        "res = sigmoid(np.dot(input_layer, synaptic_weights))[0]\n",
        "display(res)\n",
        "\n",
        "thresh = 0.01\n",
        "out = 0 if res < thresh else 1\n",
        "\n",
        "large(out)"
      ]
    },
    {
      "cell_type": "markdown",
      "metadata": {
        "id": "tUfPpGoCoGaA"
      },
      "source": [
        "### Graph"
      ]
    },
    {
      "cell_type": "code",
      "execution_count": 14,
      "metadata": {
        "colab": {
          "base_uri": "https://localhost:8080/",
          "height": 248
        },
        "id": "foiUQNleiahq",
        "outputId": "566a7c16-a04a-468c-e918-b9eb7a93a8fe"
      },
      "outputs": [
        {
          "data": {
            "image/png": "[encoded data removed]",
            "text/plain": [
              "<Figure size 640x480 with 1 Axes>"
            ]
          },
          "metadata": {},
          "output_type": "display_data"
        }
      ],
      "source": [
        "G = nx.DiGraph()\n",
        "layers = [[0, 1, 2], [3]]\n",
        "\n",
        "rels = list(itertools.product(*layers))\n",
        "#rels.append((3, 4))\n",
        "flatten = lambda l: [x for i in l for x in i]\n",
        "\n",
        "labels = {i: v for i, v in enumerate(input_layer)}\n",
        "labels[3] = round(res, 3)\n",
        "#labels[4] = 0 if res < thresh else 1\n",
        "\n",
        "pos = {}\n",
        "m = max([len(l) for l in layers])\n",
        "for i, l in enumerate(layers):\n",
        "  for j, v in enumerate(l):\n",
        "    pos[v] = (i, len(l) - j)\n",
        "\n",
        "pos[3] = (pos[3][0], pos[1][1])\n",
        "#pos[4] = (pos[3][0] + 1, pos[1][1])\n",
        "\n",
        "weights_labels = {(ra, rb): \"{:0.3f}\".format(synaptic_weights[i][0]) for i, (ra, rb) in enumerate(rels)}\n",
        "G.add_edges_from(rels)\n",
        "\n",
        "options = {\n",
        "    \"font_size\": 16,\n",
        "    \"node_size\": 3000,\n",
        "    \"node_color\": [(1, 1, 1, 1) for _ in range(len(labels))],\n",
        "    \"edgecolors\": \"black\",\n",
        "    \"linewidths\": 3,\n",
        "    \"width\": 3,\n",
        "    \"labels\": labels,\n",
        "    \"connectionstyle\": \"arc3, rad=0\",\n",
        "}\n",
        "\n",
        "nx.draw_networkx(G, pos, **options)\n",
        "\n",
        "nx.draw_networkx_edge_labels(\n",
        "    G, pos,\n",
        "    edge_labels=weights_labels,\n",
        "    font_color='black',\n",
        "    font_size=16, \n",
        "    font_weight='bold'\n",
        ")\n",
        "\n",
        "plt.axis('off')\n",
        "ax = plt.gca()\n",
        "ax.margins(0.20)\n",
        "plt.show()"
      ]
    }
  ],
  "metadata": {
    "colab": {
      "authorship_tag": "ABX9TyO+Psy/T2PKhICcB98RlOYN",
      "collapsed_sections": [],
      "include_colab_link": true,
      "name": "SNN.ipynb",
      "provenance": []
    },
    "kernelspec": {
      "display_name": "Python 3",
      "name": "python3"
    },
    "language_info": {
      "codemirror_mode": {
        "name": "ipython",
        "version": 3
      },
      "file_extension": ".py",
      "mimetype": "text/x-python",
      "name": "python",
      "nbconvert_exporter": "python",
      "pygments_lexer": "ipython3",
      "version": "3.10.0"
    }
  },
  "nbformat": 4,
  "nbformat_minor": 0
}
